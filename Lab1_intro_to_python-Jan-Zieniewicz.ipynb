{
 "cells": [
  {
   "cell_type": "markdown",
   "id": "a48bcace",
   "metadata": {},
   "source": [
    "#  Laboratorium z Podstaw Przetwarzania Sygnałów\n",
    "## Laboratorium 1 - podstawy programowania w języku python\n",
    "\n",
    "prowadzący: dr inż. Łukasz Jeleń"
   ]
  },
  {
   "cell_type": "markdown",
   "id": "f05b6a76",
   "metadata": {},
   "source": [
    "Nazwisko i Imię: Jan Zieniewicz  \n",
    "Nr albumu: 263930  \n",
    "data wykonania ćwiczenia: 11.10.2022r.  \n",
    "\n",
    "w celu zachowania przeniesienia do kolejnej linii należy się upewnić, że na końcu linii znajduje się 2x spacja"
   ]
  },
  {
   "cell_type": "markdown",
   "id": "2ac019e4",
   "metadata": {},
   "source": [
    "# 1. Narzędzia"
   ]
  },
  {
   "cell_type": "markdown",
   "id": "5b00389d",
   "metadata": {},
   "source": [
    "Na zjaęciach będziemy korzystali z pythnona, który jest stosounkowo prostym językiem programowania. Mają Państwo do wyboru korzystanie z Google Colab (https://colab.research.google.com) - wersja online, lub Anaconda Navigator (https://www.anaconda.com/) - wymaga instalacji na własnym komputerze. Są to oczywiście tylko propozycje. "
   ]
  },
  {
   "cell_type": "markdown",
   "id": "8fd6badd",
   "metadata": {},
   "source": [
    "# 2. Ksiązka"
   ]
  },
  {
   "attachments": {},
   "cell_type": "markdown",
   "id": "0d5984d0",
   "metadata": {},
   "source": [
    "![title](think_dsp_cover-229x300.jpg)"
   ]
  },
  {
   "cell_type": "markdown",
   "id": "a1d260cd",
   "metadata": {},
   "source": [
    "Allen B. Downey, Think DSP, Digital Signal Processing in Python, Green Tea Press, Wersja 1.0.5"
   ]
  },
  {
   "cell_type": "markdown",
   "id": "65b66bb1",
   "metadata": {},
   "source": [
    "## Linki\n",
    "\n",
    "Link do strony wydawnictwa (pdf) - https://greenteapress.com/wp/think-dsp/  \n",
    "Link do strony wydawnictwa (html) - https://greenteapress.com/thinkdsp/html/index.html  \n",
    "Link do instrukcji uruchamiania plików Jupitera z przykładami - http://allendowney.github.io/ThinkDSP/  \n",
    "Link do Githuba z przykładami - https://github.com/AllenDowney/ThinkDSP"
   ]
  },
  {
   "cell_type": "markdown",
   "id": "0320dc16",
   "metadata": {},
   "source": [
    "#  3. Ćwiczenia wprowadzające"
   ]
  },
  {
   "cell_type": "markdown",
   "id": "92f3f95c",
   "metadata": {},
   "source": [
    "# 3.1 Hello world"
   ]
  },
  {
   "cell_type": "markdown",
   "id": "6d4f3764",
   "metadata": {},
   "source": [
    "Na początek zapoznajmy się z podstwową komendą pozwalającą na wyświetlenie tekstu na enkranie -> print  \n",
    "W celu kompilacji i uruchomienia proszę wcisnąć shift+Enter"
   ]
  },
  {
   "cell_type": "code",
   "execution_count": 1,
   "id": "3fb234d1",
   "metadata": {},
   "outputs": [
    {
     "name": "stdout",
     "output_type": "stream",
     "text": [
      "Hello World!!!\n"
     ]
    }
   ],
   "source": [
    "print('Hello World!!!')"
   ]
  },
  {
   "cell_type": "markdown",
   "id": "1e6023b5",
   "metadata": {},
   "source": [
    "Inne przykłady:"
   ]
  },
  {
   "cell_type": "code",
   "execution_count": 1,
   "id": "81d5c579",
   "metadata": {},
   "outputs": [
    {
     "name": "stdout",
     "output_type": "stream",
     "text": [
      "Dzisiaj jest genialny dzień na naukę programowania\n",
      "\n",
      "Python jest fajny\n",
      "Łańcuchy znakowe (strings) w Pythonie są łatwe w użytkowaniu\n",
      "Możemy nawet dodać \"cudzysłów\" wewnątrz stringu\n",
      "Możemy też łączyć stringi ze sobą -> konkatenancja\n",
      "hello world\n"
     ]
    }
   ],
   "source": [
    "print(\"Dzisiaj jest genialny dzień na naukę programowania\\n\")\n",
    "#\\n dodaje 'break line', a # to inline comment\n",
    "print('Python jest fajny')\n",
    "print(\"Łańcuchy znakowe (strings) w Pythonie są łatwe w użytkowaniu\")\n",
    "print('Możemy nawet dodać \"cudzysłów\" wewnątrz stringu')\n",
    "print('Możemy też łączyć stringi ze sobą -> konkatenancja')\n",
    "print(\"hello\" + \" world\")"
   ]
  },
  {
   "cell_type": "markdown",
   "id": "0c1dc5b9",
   "metadata": {},
   "source": [
    "# 3.2 Pobieranie danych od użytkownika"
   ]
  },
  {
   "cell_type": "markdown",
   "id": "98406f60",
   "metadata": {},
   "source": [
    "polecenie 'input' pozwala na pobranie danych od użytkownika"
   ]
  },
  {
   "cell_type": "code",
   "execution_count": 3,
   "id": "21d82bcb",
   "metadata": {},
   "outputs": [],
   "source": [
    "name = input(\"Podaj imię \")"
   ]
  },
  {
   "cell_type": "code",
   "execution_count": 4,
   "id": "6c056f81",
   "metadata": {},
   "outputs": [
    {
     "name": "stdout",
     "output_type": "stream",
     "text": [
      "Jan\n"
     ]
    }
   ],
   "source": [
    "#wyświetlamy string przechowany w zmiennej 'name'\n",
    "print(name)"
   ]
  },
  {
   "cell_type": "markdown",
   "id": "a819e5d5",
   "metadata": {},
   "source": [
    "konkatenancja stringów - złącznie, suma stringów"
   ]
  },
  {
   "cell_type": "code",
   "execution_count": 15,
   "id": "d23be4af",
   "metadata": {},
   "outputs": [],
   "source": [
    "# ustawmy sobie zmienną pozdrowienie = \"Witaj,\"\n",
    "pozdrowienie = \"Witaj,\""
   ]
  },
  {
   "cell_type": "code",
   "execution_count": 16,
   "id": "3fc5d6f2",
   "metadata": {},
   "outputs": [
    {
     "name": "stdout",
     "output_type": "stream",
     "text": [
      "Witaj,Jan\n"
     ]
    }
   ],
   "source": [
    "# teraz połączmy oba łańcuchy\n",
    "print (pozdrowienie + name)"
   ]
  },
  {
   "cell_type": "code",
   "execution_count": 17,
   "id": "8047d2ed",
   "metadata": {},
   "outputs": [
    {
     "name": "stdout",
     "output_type": "stream",
     "text": [
      "Witaj, Jan\n"
     ]
    }
   ],
   "source": [
    "#dodajmy jeszcze spację po przecinku\n",
    "print (pozdrowienie + ' ' + name)"
   ]
  },
  {
   "cell_type": "markdown",
   "id": "dfd46b63",
   "metadata": {},
   "source": [
    "## 3.3 Zmienne\n",
    "\n",
    "Python jest językiem silnie typowanym"
   ]
  },
  {
   "cell_type": "code",
   "execution_count": 18,
   "id": "c4c41630",
   "metadata": {},
   "outputs": [
    {
     "name": "stdout",
     "output_type": "stream",
     "text": [
      "33\n"
     ]
    }
   ],
   "source": [
    "wiek = 33\n",
    "print(wiek)"
   ]
  },
  {
   "cell_type": "code",
   "execution_count": 19,
   "id": "47c614f2",
   "metadata": {},
   "outputs": [
    {
     "name": "stdout",
     "output_type": "stream",
     "text": [
      "<class 'str'>\n",
      "<class 'int'>\n"
     ]
    }
   ],
   "source": [
    "print(type(pozdrowienie))\n",
    "print(type(wiek))"
   ]
  },
  {
   "cell_type": "code",
   "execution_count": 1,
   "id": "0c7fd35e",
   "metadata": {},
   "outputs": [
    {
     "ename": "NameError",
     "evalue": "name 'name' is not defined",
     "output_type": "error",
     "traceback": [
      "\u001b[0;31m---------------------------------------------------------------------------\u001b[0m",
      "\u001b[0;31mNameError\u001b[0m                                 Traceback (most recent call last)",
      "Cell \u001b[0;32mIn [1], line 2\u001b[0m\n\u001b[1;32m      1\u001b[0m wiek_slowami \u001b[39m=\u001b[39m \u001b[39m\"\u001b[39m\u001b[39m10 lat\u001b[39m\u001b[39m\"\u001b[39m\n\u001b[0;32m----> 2\u001b[0m \u001b[39mprint\u001b[39m(name \u001b[39m+\u001b[39m \u001b[39m\"\u001b[39m\u001b[39m ma \u001b[39m\u001b[39m\"\u001b[39m \u001b[39m+\u001b[39m wiek \u001b[39m+\u001b[39m \u001b[39m\"\u001b[39m\u001b[39mlat\u001b[39m\u001b[39m\"\u001b[39m)\n\u001b[1;32m      3\u001b[0m \u001b[39mprint\u001b[39m(\u001b[39mtype\u001b[39m(wiek))\n",
      "\u001b[0;31mNameError\u001b[0m: name 'name' is not defined"
     ]
    }
   ],
   "source": [
    "wiek_slowami = \"10 lat\"\n",
    "print(name + \" ma \" + wiek + \"lat\")\n",
    "print(type(wiek))"
   ]
  },
  {
   "cell_type": "code",
   "execution_count": 37,
   "id": "bad96107",
   "metadata": {},
   "outputs": [
    {
     "name": "stdout",
     "output_type": "stream",
     "text": [
      "Jan ma 33 lat\n",
      "Jan ma 33 lat\n"
     ]
    }
   ],
   "source": [
    "# musimy konwertować\n",
    "print(name + \" ma \" + str(wiek) + \" lat\")\n",
    "#lub\n",
    "print(name + \" ma {}\".format(wiek) + \" lat\")"
   ]
  },
  {
   "cell_type": "markdown",
   "id": "a7ddd6ed",
   "metadata": {},
   "source": [
    "## 3.4 Operatory, pętle, wyrażenia warunkowe"
   ]
  },
  {
   "cell_type": "markdown",
   "id": "8e4d620b",
   "metadata": {},
   "source": [
    "### Operatory"
   ]
  },
  {
   "cell_type": "code",
   "execution_count": 25,
   "id": "866bd650",
   "metadata": {},
   "outputs": [],
   "source": [
    "a = 15\n",
    "b = 10"
   ]
  },
  {
   "cell_type": "code",
   "execution_count": 27,
   "id": "ab91f364",
   "metadata": {},
   "outputs": [
    {
     "name": "stdout",
     "output_type": "stream",
     "text": [
      "25\n",
      "5\n",
      "150\n",
      "1.5\n",
      "1\n",
      "5\n"
     ]
    }
   ],
   "source": [
    "print(a + b)    # 25\n",
    "print(a - b)    # 5\n",
    "print(a * b)    # 150\n",
    "print(a / b)    # 1.5\n",
    "print(a // b)   # 1 dzielenie integerów, zaokrąglone w dół do minus nieskończoności\n",
    "print(a % b)    # 5 modulo"
   ]
  },
  {
   "cell_type": "markdown",
   "id": "f57bf9d7",
   "metadata": {},
   "source": [
    "Kolejność działań"
   ]
  },
  {
   "cell_type": "code",
   "execution_count": 31,
   "id": "fa1337f6",
   "metadata": {},
   "outputs": [
    {
     "name": "stdout",
     "output_type": "stream",
     "text": [
      "-29.666666666666668\n",
      "-29.666666666666668\n",
      "52.00000000000001\n",
      "52.00000000000001\n"
     ]
    }
   ],
   "source": [
    "print(a + b / 3 - 4 * 12)\n",
    "print(a + (b / 3) - (4 * 12))\n",
    "print((((a + b) /3) - 4) * 12)\n",
    "print(((a + b) /3 - 4) * 12)"
   ]
  },
  {
   "cell_type": "markdown",
   "id": "e9572432",
   "metadata": {},
   "source": [
    "### Pętla for"
   ]
  },
  {
   "cell_type": "code",
   "execution_count": 30,
   "id": "7687112c",
   "metadata": {
    "scrolled": true
   },
   "outputs": [
    {
     "name": "stdout",
     "output_type": "stream",
     "text": [
      "1\n",
      "2\n",
      "3\n",
      "4\n",
      "5\n",
      "6\n",
      "7\n",
      "8\n",
      "9\n",
      "10\n",
      "11\n",
      "12\n",
      "13\n",
      "14\n",
      "15\n",
      "16\n",
      "17\n",
      "18\n",
      "19\n",
      "20\n",
      "21\n",
      "22\n",
      "23\n",
      "24\n"
     ]
    }
   ],
   "source": [
    "# range daje nam zakres dla parametru sterującego pętlą -> i\n",
    "for i in range(1, a + b):\n",
    "    print(i)"
   ]
  },
  {
   "cell_type": "code",
   "execution_count": 33,
   "id": "6d3b87c6",
   "metadata": {},
   "outputs": [
    {
     "name": "stdout",
     "output_type": "stream",
     "text": [
      "O\n",
      "w\n",
      "c\n",
      "z\n",
      "a\n",
      "r\n",
      "e\n",
      "k\n",
      " \n",
      "p\n",
      "o\n",
      "d\n",
      "h\n",
      "a\n",
      "l\n",
      "a\n",
      "ń\n",
      "s\n",
      "k\n",
      "i\n"
     ]
    }
   ],
   "source": [
    "parrot = \"Owczarek podhalański\"\n",
    "\n",
    "for character in parrot:\n",
    "    print(character)"
   ]
  },
  {
   "cell_type": "code",
   "execution_count": 34,
   "id": "215043c5",
   "metadata": {},
   "outputs": [],
   "source": [
    "# iteracja w zadanym zakresie:"
   ]
  },
  {
   "cell_type": "code",
   "execution_count": 35,
   "id": "8d1075bf",
   "metadata": {},
   "outputs": [
    {
     "name": "stdout",
     "output_type": "stream",
     "text": [
      "i is now 10\n",
      "i is now 11\n",
      "i is now 12\n",
      "i is now 13\n",
      "i is now 14\n",
      "i is now 15\n"
     ]
    }
   ],
   "source": [
    "for i in range(10, 16):\n",
    "    print(\"i is now {}\".format(i))"
   ]
  },
  {
   "cell_type": "markdown",
   "id": "e7d086dc",
   "metadata": {},
   "source": [
    "### Pętla while"
   ]
  },
  {
   "cell_type": "code",
   "execution_count": 38,
   "id": "1e89d603",
   "metadata": {},
   "outputs": [
    {
     "name": "stdout",
     "output_type": "stream",
     "text": [
      "i is now 0\n",
      "i is now 1\n",
      "i is now 2\n",
      "i is now 3\n",
      "i is now 4\n",
      "i is now 5\n",
      "i is now 6\n",
      "i is now 7\n",
      "i is now 8\n",
      "i is now 9\n"
     ]
    }
   ],
   "source": [
    "i = 0\n",
    "while i < 10:\n",
    "    print(\"i is now {}\".format(i))\n",
    "    i += 1"
   ]
  },
  {
   "cell_type": "markdown",
   "id": "1775f106",
   "metadata": {},
   "source": [
    "### Wyrażenie warunkowe"
   ]
  },
  {
   "cell_type": "code",
   "execution_count": 40,
   "id": "58403346",
   "metadata": {},
   "outputs": [
    {
     "name": "stdout",
     "output_type": "stream",
     "text": [
      "Ile masz lat? 30\n"
     ]
    }
   ],
   "source": [
    "#przykład\n",
    "wiek = int(input(\"Ile masz lat? \"))"
   ]
  },
  {
   "cell_type": "code",
   "execution_count": 42,
   "id": "e24ff5ba",
   "metadata": {},
   "outputs": [
    {
     "name": "stdout",
     "output_type": "stream",
     "text": [
      "Miłego dnia w pracy\n",
      "--------------------------------------------------------------------------------\n"
     ]
    }
   ],
   "source": [
    "# if age >= 16 and age <= 65:\n",
    "# if 16 <= age <= 65:\n",
    "if wiek in range(16, 66):\n",
    "    print(\"Miłego dnia w pracy\")\n",
    "else:\n",
    "    print(\"Ciesz się wolnym czasem\")\n",
    "\n",
    "print(\"-\" * 80)"
   ]
  },
  {
   "cell_type": "code",
   "execution_count": 45,
   "id": "2c185c44",
   "metadata": {},
   "outputs": [
    {
     "name": "stdout",
     "output_type": "stream",
     "text": [
      "Miłego dnia w pracy\n"
     ]
    }
   ],
   "source": [
    "#lub tak\n",
    "if wiek < 16 or wiek > 65:\n",
    "    print(\"Ciesz się wolnym czasem\")\n",
    "else:\n",
    "    print(\"Miłego dnia w pracy\")"
   ]
  },
  {
   "cell_type": "markdown",
   "id": "08c579dc",
   "metadata": {},
   "source": [
    "### Przykład 1"
   ]
  },
  {
   "cell_type": "code",
   "execution_count": 46,
   "id": "6a5e7eb1",
   "metadata": {},
   "outputs": [
    {
     "name": "stdout",
     "output_type": "stream",
     "text": [
      "Kup mleko\n",
      "Kup makaron\n",
      "Kup jaja\n"
     ]
    }
   ],
   "source": [
    "lista_zakupow = [\"mleko\", \"makaron\", \"jaja\", \"ups\", \"chleb\", \"ryż\"]\n",
    "for artykul in lista_zakupow:\n",
    "    if artykul == \"ups\":\n",
    "        break\n",
    "\n",
    "    print(\"Kup \" + artykul)"
   ]
  },
  {
   "cell_type": "markdown",
   "id": "0ae7fcae",
   "metadata": {},
   "source": [
    "### Przykład 2"
   ]
  },
  {
   "cell_type": "code",
   "execution_count": 48,
   "id": "0104f3f4",
   "metadata": {},
   "outputs": [
    {
     "name": "stdout",
     "output_type": "stream",
     "text": [
      "Wybierz kierunek: wyjdz\n",
      "Koniec gry\n",
      "nie jesteś zadowolony, że się stamtąd wydostałeś?\n"
     ]
    }
   ],
   "source": [
    "wyjscia = [\"Północ\", \"Południe\", \"Wschód\", \"Zachód\"]\n",
    "\n",
    "wybrane_wyjscie = \"\"\n",
    "while wybrane_wyjscie not in wyjscia:\n",
    "    wybrane_wyjscie = input(\"Wybierz kierunek: \")\n",
    "    if wybrane_wyjscie.casefold() == \"wyjdz\":\n",
    "        print(\"Koniec gry\")\n",
    "        break\n",
    "\n",
    "print(\"nie jesteś zadowolony, że się stamtąd wydostałeś?\")"
   ]
  },
  {
   "cell_type": "markdown",
   "id": "356fef28",
   "metadata": {},
   "source": [
    "## 3.5 Listy"
   ]
  },
  {
   "cell_type": "code",
   "execution_count": 49,
   "id": "b1fbcd9a",
   "metadata": {},
   "outputs": [],
   "source": [
    "czesci_komputerowe = [\"komputer\",\n",
    "                      \"monitor\",\n",
    "                      \"klawiatura\",\n",
    "                      \"mysz\",\n",
    "                      \"drukarka\"]"
   ]
  },
  {
   "cell_type": "code",
   "execution_count": 50,
   "id": "d86049e6",
   "metadata": {},
   "outputs": [
    {
     "name": "stdout",
     "output_type": "stream",
     "text": [
      "komputer\n",
      "monitor\n",
      "klawiatura\n",
      "mysz\n",
      "drukarka\n",
      "\n",
      "klawiatura\n",
      "['komputer', 'monitor', 'klawiatura']\n",
      "drukarka\n"
     ]
    }
   ],
   "source": [
    "for czesc in czesci_komputerowe:\n",
    "    print(czesc)\n",
    "\n",
    "print()\n",
    "print(czesci_komputerowe[2])\n",
    "\n",
    "print(czesci_komputerowe[0:3])\n",
    "print(czesci_komputerowe[-1])"
   ]
  },
  {
   "cell_type": "code",
   "execution_count": 51,
   "id": "f41cfcc5",
   "metadata": {},
   "outputs": [],
   "source": [
    "parzyste = [2, 4, 6, 8]\n",
    "nieparzyste = [1, 3, 5, 7, 9]\n"
   ]
  },
  {
   "cell_type": "code",
   "execution_count": 52,
   "id": "aaf3c776",
   "metadata": {},
   "outputs": [
    {
     "name": "stdout",
     "output_type": "stream",
     "text": [
      "2\n",
      "8\n",
      "1\n",
      "9\n",
      "\n",
      "4\n",
      "5\n",
      "\n",
      "1\n"
     ]
    }
   ],
   "source": [
    "print(min(parzyste))\n",
    "print(max(parzyste))\n",
    "print(min(nieparzyste))\n",
    "print(max(nieparzyste))\n",
    "\n",
    "print()\n",
    "print(len(parzyste))\n",
    "print(len(nieparzyste))\n",
    "\n",
    "print()\n",
    "print(\"Politechnika\".count(\"chnika\"))"
   ]
  },
  {
   "cell_type": "code",
   "execution_count": 53,
   "id": "8d65759b",
   "metadata": {},
   "outputs": [
    {
     "name": "stdout",
     "output_type": "stream",
     "text": [
      "2\n"
     ]
    }
   ],
   "source": [
    "print(\"Politechnika\".count(\"i\"))"
   ]
  },
  {
   "cell_type": "markdown",
   "id": "e38357ca",
   "metadata": {},
   "source": [
    "## 3.6 Funkcje"
   ]
  },
  {
   "cell_type": "code",
   "execution_count": 44,
   "id": "21421dc0",
   "metadata": {},
   "outputs": [],
   "source": [
    "def pomnoz(x: float, y: float) -> float:\n",
    "    \"\"\"\n",
    "    Mnożenie 2 liczb.\n",
    "    \n",
    "    Proszę zauważyć, że jeżeli przekażemy łańuch znakowy jako pierwszy parametr,\n",
    "    to na wyjściu otrzymamy ten łańcuch powielony y razy.\n",
    "    Zatem funkcja może być wykorzystana do powielania sekwencji.\n",
    "    \n",
    "    \"\"\"\n",
    "    wynik = x * y\n",
    "    return wynik"
   ]
  },
  {
   "cell_type": "code",
   "execution_count": 45,
   "id": "f672c4a3",
   "metadata": {},
   "outputs": [],
   "source": [
    "test = pomnoz(2.5, 5)\n",
    "test2 = pomnoz('PPS jest super!\\n', 5)"
   ]
  },
  {
   "cell_type": "code",
   "execution_count": 46,
   "id": "99453f27",
   "metadata": {},
   "outputs": [
    {
     "name": "stdout",
     "output_type": "stream",
     "text": [
      "12.5\n",
      "PPS jest super!\n",
      "PPS jest super!\n",
      "PPS jest super!\n",
      "PPS jest super!\n",
      "PPS jest super!\n",
      "\n"
     ]
    }
   ],
   "source": [
    "print (test)\n",
    "print (test2)"
   ]
  },
  {
   "cell_type": "markdown",
   "id": "1e05addc",
   "metadata": {},
   "source": [
    "## 3.7 Importowanie bibliotek"
   ]
  },
  {
   "cell_type": "code",
   "execution_count": 60,
   "id": "093d2a7c",
   "metadata": {},
   "outputs": [],
   "source": [
    "import time\n",
    "from time import time as moj_timer\n",
    "import random\n",
    "\n",
    "# więcej wbudowanych bibliotek: https://docs.python.org/3/library/functions.html#built-in-funcs"
   ]
  },
  {
   "cell_type": "code",
   "execution_count": 70,
   "id": "3ec4393c",
   "metadata": {},
   "outputs": [
    {
     "name": "stdout",
     "output_type": "stream",
     "text": [
      "W celu rozpoczęcia wciśnij Enter\n",
      "Wciśnij Enter aby zakończyć\n",
      "Rozpoczęto o 14:05:32\n",
      "Zakończono o 14:05:33\n",
      "Twój czas reakcji wynosił 0.4650583267211914 sekund\n"
     ]
    }
   ],
   "source": [
    "input (\"W celu rozpoczęcia wciśnij Enter\")\n",
    "\n",
    "czas_oczekiwania = random.randint(1, 6)\n",
    "time.sleep(czas_oczekiwania)\n",
    "czas_start = moj_timer()\n",
    "input(\"Wciśnij Enter aby zakończyć\")\n",
    "\n",
    "czas_stop = moj_timer()\n",
    "\n",
    "print(\"Rozpoczęto o \" + time.strftime(\"%X\", time.localtime(czas_start)))\n",
    "print(\"Zakończono o \" + time.strftime(\"%X\", time.localtime(czas_stop)))\n",
    "\n",
    "print(\"Twój czas reakcji wynosił {} sekund\".format(czas_stop - czas_start))"
   ]
  },
  {
   "cell_type": "markdown",
   "id": "3b515235",
   "metadata": {},
   "source": [
    "# 4. Zadania"
   ]
  },
  {
   "cell_type": "markdown",
   "id": "4891cdcf",
   "metadata": {},
   "source": [
    "## 4.1 Ciąg Fibonacciego - Project Euler - problem #2"
   ]
  },
  {
   "cell_type": "markdown",
   "id": "d4529948",
   "metadata": {},
   "source": [
    "Jak wiadomo każde wyrażenie ciągu Fibonacciego jest tworzone poprzez zsumowanie dwóch poprzednich wyrażeń. Zatem rozpoczynając od 1 i 2, pierwsze 10 wyrażeń ciągu Fibonacciego ma postać:\n",
    "\n",
    "$$ 1,2,3,5,8,13,21,34,55,89,... $$\n",
    "\n",
    "Należy wyznaczyć sumę wszystkich parzystych wyrażeń ciągu Fibonacciego, których wartość nieprzekracza czterech milionów"
   ]
  },
  {
   "cell_type": "code",
   "execution_count": 35,
   "id": "e716acfd",
   "metadata": {},
   "outputs": [
    {
     "name": "stdout",
     "output_type": "stream",
     "text": [
      "2\n",
      "8\n",
      "34\n",
      "144\n",
      "610\n",
      "2584\n",
      "10946\n",
      "46368\n",
      "196418\n",
      "832040\n",
      "3524578\n",
      "4613732\n"
     ]
    }
   ],
   "source": [
    "#tutaj można dodać swoje rozwiązanie\n",
    "def fibonacci():\n",
    "    fib=[1,1]\n",
    "    suma=0\n",
    "    x=2\n",
    "    while suma<4_000_000:\n",
    "        if x>=2:\n",
    "            pomoc=fib[x-1]+fib[x-2]\n",
    "            fib.append(pomoc)\n",
    "            #print(pomoc)\n",
    "            x+=1\n",
    "            if pomoc%2==0:\n",
    "                suma+=pomoc\n",
    "                print(pomoc)\n",
    "    print(suma)\n",
    "\n",
    "\n",
    "\n",
    "fibonacci()"
   ]
  },
  {
   "cell_type": "markdown",
   "id": "de69d137",
   "metadata": {},
   "source": [
    "## 4.2 Paradoks urodzinowy"
   ]
  },
  {
   "cell_type": "markdown",
   "id": "4b697ff8",
   "metadata": {},
   "source": [
    "Paradoks urodzinowy zakłada, że prawdopodobieństwo, iż dwie osoby w pokoju będzie miało taką samą datę urodzin wynosi ponad 50% przy założeniu, że ilość osób (n) w pomieszczeniu jest większa niż 23. W rzeczywistości nie jest to paradoks, ale wiele osób jest tym faktem zaskoczonych. Proszę stworzyć program/skrypt w pythonie testujący taki paradoks. Należy przeprowadzić eksperymenty na losowo wygenerowanych dat urodzin, które sprawdzą zasadność tego paradoksu dla n = 5, 10, 15, 20, ..., 100."
   ]
  },
  {
   "cell_type": "code",
   "execution_count": 1,
   "id": "8d46b4ad",
   "metadata": {},
   "outputs": [],
   "source": [
    "#tutaj można dodać swoje rozwiązanie\n",
    "\n",
    "import random\n",
    "\n",
    "def genarate_date():\n",
    "    alliterations=0\n",
    "    successfuliterations=0\n",
    "    for x in range(5,101,5):\n",
    "        all_dates=[]\n",
    "        for i in range(x):\n",
    "            pomoc=[random.randint(1,12),random.randint(1,30)]       #zgodnie z ustaleniem z zajęć przyjąłem, że każdy miesiąc ma 30 dni\n",
    "            if pomoc not in all_dates:\n",
    "                all_dates.append(pomoc)\n",
    "            else:\n",
    "                successfuliterations+=1\n",
    "                break\n",
    "        alliterations+=1\n",
    "        \n",
    "    print(f\"liczba iteracji w których powtórzyła się data urodzin {successfuliterations}\")\n",
    "    print(f\"liczba wszystkich iteracji: {alliterations}\")\n",
    "    print(f'Procent iteracji z powtarzającą się datą urodzenia: {successfuliterations/alliterations*100}%')\n",
    "       "
   ]
  },
  {
   "cell_type": "code",
   "execution_count": 11,
   "id": "e2bef0ed",
   "metadata": {},
   "outputs": [
    {
     "name": "stdout",
     "output_type": "stream",
     "text": [
      "liczba iteracji w których powtórzyła się data urodzin 15\n",
      "liczba wszystkich iteracji: 20\n",
      "Procent iteracji z powtarzającą się datą urodzenia: 75.0%\n"
     ]
    }
   ],
   "source": [
    "# w razie potrzeby można dodać więcej komórek\n",
    "genarate_date() "
   ]
  }
 ],
 "metadata": {
  "kernelspec": {
   "display_name": "Python 3.10.7 64-bit",
   "language": "python",
   "name": "python3"
  },
  "language_info": {
   "codemirror_mode": {
    "name": "ipython",
    "version": 3
   },
   "file_extension": ".py",
   "mimetype": "text/x-python",
   "name": "python",
   "nbconvert_exporter": "python",
   "pygments_lexer": "ipython3",
   "version": "3.10.7"
  },
  "vscode": {
   "interpreter": {
    "hash": "e7370f93d1d0cde622a1f8e1c04877d8463912d04d973331ad4851f04de6915a"
   }
  }
 },
 "nbformat": 4,
 "nbformat_minor": 5
}
